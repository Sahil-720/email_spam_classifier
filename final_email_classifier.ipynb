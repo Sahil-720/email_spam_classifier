{
 "cells": [
  {
   "cell_type": "code",
   "execution_count": 1,
   "id": "3cb1cf55-0ff8-4ad2-b29c-a130250a08e1",
   "metadata": {},
   "outputs": [],
   "source": [
    "import numpy as np\n",
    "import pandas as pd\n",
    "import matplotlib.pyplot as plt\n",
    "%matplotlib inline\n",
    "\n",
    "!pip install tqdm -q\n",
    "from tqdm import tqdm\n",
    "tqdm.pandas()"
   ]
  },
  {
   "cell_type": "markdown",
   "id": "63c30209-b8c8-4093-89fc-6acf1c61a1f9",
   "metadata": {},
   "source": [
    "DATA LOADING"
   ]
  },
  {
   "cell_type": "code",
   "execution_count": 2,
   "id": "964e6d66-34b8-4edf-9818-1f18a9b0f456",
   "metadata": {},
   "outputs": [],
   "source": [
    "dataset=pd.read_csv('processed_data.csv')"
   ]
  },
  {
   "cell_type": "code",
   "execution_count": 3,
   "id": "f3ba08fb-1028-4ccb-a918-e0248edc1683",
   "metadata": {},
   "outputs": [
    {
     "data": {
      "text/html": [
       "<div>\n",
       "<style scoped>\n",
       "    .dataframe tbody tr th:only-of-type {\n",
       "        vertical-align: middle;\n",
       "    }\n",
       "\n",
       "    .dataframe tbody tr th {\n",
       "        vertical-align: top;\n",
       "    }\n",
       "\n",
       "    .dataframe thead th {\n",
       "        text-align: right;\n",
       "    }\n",
       "</style>\n",
       "<table border=\"1\" class=\"dataframe\">\n",
       "  <thead>\n",
       "    <tr style=\"text-align: right;\">\n",
       "      <th></th>\n",
       "      <th>label</th>\n",
       "      <th>subject</th>\n",
       "      <th>email_to</th>\n",
       "      <th>email_from</th>\n",
       "      <th>message</th>\n",
       "    </tr>\n",
       "  </thead>\n",
       "  <tbody>\n",
       "    <tr>\n",
       "      <th>0</th>\n",
       "      <td>1</td>\n",
       "      <td>Generic Cialis, branded quality@</td>\n",
       "      <td>the00@speedy.uwaterloo.ca</td>\n",
       "      <td>\"Tomas Jacobs\" &lt;RickyAmes@aol.com&gt;</td>\n",
       "      <td>Content-Type: text/html;\\nContent-Transfer-Enc...</td>\n",
       "    </tr>\n",
       "    <tr>\n",
       "      <th>1</th>\n",
       "      <td>0</td>\n",
       "      <td>Typo in /debian/README</td>\n",
       "      <td>debian-mirrors@lists.debian.org</td>\n",
       "      <td>Yan Morin &lt;yan.morin@savoirfairelinux.com&gt;</td>\n",
       "      <td>Hi, i've just updated from the gulus and I che...</td>\n",
       "    </tr>\n",
       "    <tr>\n",
       "      <th>2</th>\n",
       "      <td>1</td>\n",
       "      <td>authentic viagra</td>\n",
       "      <td>&lt;the00@plg.uwaterloo.ca&gt;</td>\n",
       "      <td>\"Sheila Crenshaw\" &lt;7stocknews@tractionmarketin...</td>\n",
       "      <td>Content-Type: text/plain;\\n\\tcharset=\"iso-8859...</td>\n",
       "    </tr>\n",
       "    <tr>\n",
       "      <th>3</th>\n",
       "      <td>1</td>\n",
       "      <td>Nice talking with ya</td>\n",
       "      <td>opt4@speedy.uwaterloo.ca</td>\n",
       "      <td>\"Stormy Dempsey\" &lt;vqucsmdfgvsg@ruraltek.com&gt;</td>\n",
       "      <td>Hey Billy, \\n\\nit was really fun going out the...</td>\n",
       "    </tr>\n",
       "    <tr>\n",
       "      <th>4</th>\n",
       "      <td>1</td>\n",
       "      <td>or trembling; stomach cramps; trouble in sleep...</td>\n",
       "      <td>ktwarwic@speedy.uwaterloo.ca</td>\n",
       "      <td>\"Christi T. Jernigan\" &lt;dcube@totalink.net&gt;</td>\n",
       "      <td>Content-Type: multipart/alternative;\\n        ...</td>\n",
       "    </tr>\n",
       "  </tbody>\n",
       "</table>\n",
       "</div>"
      ],
      "text/plain": [
       "   label                                            subject  \\\n",
       "0      1                  Generic Cialis, branded quality@    \n",
       "1      0                             Typo in /debian/README   \n",
       "2      1                                   authentic viagra   \n",
       "3      1                               Nice talking with ya   \n",
       "4      1  or trembling; stomach cramps; trouble in sleep...   \n",
       "\n",
       "                          email_to  \\\n",
       "0        the00@speedy.uwaterloo.ca   \n",
       "1  debian-mirrors@lists.debian.org   \n",
       "2         <the00@plg.uwaterloo.ca>   \n",
       "3         opt4@speedy.uwaterloo.ca   \n",
       "4     ktwarwic@speedy.uwaterloo.ca   \n",
       "\n",
       "                                          email_from  \\\n",
       "0                 \"Tomas Jacobs\" <RickyAmes@aol.com>   \n",
       "1         Yan Morin <yan.morin@savoirfairelinux.com>   \n",
       "2  \"Sheila Crenshaw\" <7stocknews@tractionmarketin...   \n",
       "3       \"Stormy Dempsey\" <vqucsmdfgvsg@ruraltek.com>   \n",
       "4         \"Christi T. Jernigan\" <dcube@totalink.net>   \n",
       "\n",
       "                                             message  \n",
       "0  Content-Type: text/html;\\nContent-Transfer-Enc...  \n",
       "1  Hi, i've just updated from the gulus and I che...  \n",
       "2  Content-Type: text/plain;\\n\\tcharset=\"iso-8859...  \n",
       "3  Hey Billy, \\n\\nit was really fun going out the...  \n",
       "4  Content-Type: multipart/alternative;\\n        ...  "
      ]
     },
     "execution_count": 3,
     "metadata": {},
     "output_type": "execute_result"
    }
   ],
   "source": [
    "dataset.head()"
   ]
  },
  {
   "cell_type": "code",
   "execution_count": 4,
   "id": "743a4ce0-00c6-4d56-8549-54851ba1eb3f",
   "metadata": {},
   "outputs": [],
   "source": [
    "# 0-ham\n",
    "# 1-spam"
   ]
  },
  {
   "cell_type": "markdown",
   "id": "1077d890-2186-4961-9122-63bc2c5a4dee",
   "metadata": {},
   "source": [
    "DATA CLEANING"
   ]
  },
  {
   "cell_type": "code",
   "execution_count": 5,
   "id": "e4b20862-274d-4a61-9844-3219720e0f86",
   "metadata": {},
   "outputs": [
    {
     "name": "stdout",
     "output_type": "stream",
     "text": [
      "<class 'pandas.core.frame.DataFrame'>\n",
      "RangeIndex: 75419 entries, 0 to 75418\n",
      "Data columns (total 5 columns):\n",
      " #   Column      Non-Null Count  Dtype \n",
      "---  ------      --------------  ----- \n",
      " 0   label       75419 non-null  int64 \n",
      " 1   subject     74626 non-null  object\n",
      " 2   email_to    74843 non-null  object\n",
      " 3   email_from  75419 non-null  object\n",
      " 4   message     73932 non-null  object\n",
      "dtypes: int64(1), object(4)\n",
      "memory usage: 2.9+ MB\n"
     ]
    }
   ],
   "source": [
    "dataset.info()"
   ]
  },
  {
   "cell_type": "code",
   "execution_count": 6,
   "id": "49f4c7ee-5572-4502-bd6e-9b6023f2c63f",
   "metadata": {},
   "outputs": [
    {
     "data": {
      "text/plain": [
       "(75419, 5)"
      ]
     },
     "execution_count": 6,
     "metadata": {},
     "output_type": "execute_result"
    }
   ],
   "source": [
    "dataset.shape"
   ]
  },
  {
   "cell_type": "code",
   "execution_count": 7,
   "id": "a2cbf156-0e0c-4f2d-ac68-d58fb4486645",
   "metadata": {},
   "outputs": [
    {
     "data": {
      "text/plain": [
       "label\n",
       "1    50199\n",
       "0    25220\n",
       "Name: count, dtype: int64"
      ]
     },
     "execution_count": 7,
     "metadata": {},
     "output_type": "execute_result"
    }
   ],
   "source": [
    "dataset['label'].value_counts()# unbalanced data"
   ]
  },
  {
   "cell_type": "code",
   "execution_count": 8,
   "id": "c6906a51-d036-4154-aa6a-ac374491a12b",
   "metadata": {},
   "outputs": [
    {
     "data": {
      "text/plain": [
       "label\n",
       "1    34557\n",
       "0    24491\n",
       "Name: count, dtype: int64"
      ]
     },
     "execution_count": 8,
     "metadata": {},
     "output_type": "execute_result"
    }
   ],
   "source": [
    "dataset = dataset.drop_duplicates(subset=['message'], keep='first')\n",
    "dataset['label'].value_counts()"
   ]
  },
  {
   "cell_type": "code",
   "execution_count": 9,
   "id": "e9711449-56ac-4bbc-a65b-983252c64a47",
   "metadata": {},
   "outputs": [],
   "source": [
    "dataset.drop(columns=['subject','email_to','email_from'],inplace=True)\n",
    "df=dataset.copy()\n",
    "df.rename(columns={'label':'target','message':'text'},inplace=True)\n",
    "df.dropna(subset=['text'],inplace=True)\n",
    "df.shape\n",
    "df.index = range(len(df))"
   ]
  },
  {
   "cell_type": "code",
   "execution_count": 10,
   "id": "07feb749-7a2e-4981-8266-949e13ab8aa9",
   "metadata": {},
   "outputs": [],
   "source": [
    "# dropping garbage words(if len(words)>30)\n",
    "\n",
    "def reduce_words(L):\n",
    "    L_new=[word for word in L if len(str(word)) <= 30]\n",
    "    return ' '.join(L_new)\n",
    "\n",
    "df['text']=df['text'].str.split(' ').apply(reduce_words)"
   ]
  },
  {
   "cell_type": "code",
   "execution_count": 11,
   "id": "0a267567-8699-4009-acba-b474778d3d74",
   "metadata": {},
   "outputs": [],
   "source": [
    "# dropping html and urls\n",
    "\n",
    "import re\n",
    "\n",
    "def clean_text(text):\n",
    "    text = re.sub(r'<.*?>', '', text)  \n",
    "    text =re.sub(r'https?://\\S+|www\\.\\S+', '', text) \n",
    "    return text\n",
    "\n",
    "df['text']=df['text'].apply(clean_text)  "
   ]
  },
  {
   "cell_type": "code",
   "execution_count": 12,
   "id": "cfd9cb77-b648-4cb4-be89-762c9097d300",
   "metadata": {},
   "outputs": [],
   "source": [
    "# dropping content-type,content transfer and similar words\n",
    "\n",
    "def reduce_words3(L):\n",
    "    L2=[]\n",
    "    for word in L:\n",
    "        if 'content' in str(word).lower() or 'bit' in str(word).lower() or 'text' in str(word).lower():\n",
    "            continue\n",
    "        else:\n",
    "            L2.append(word)\n",
    "    return ' '.join(L2)\n",
    "\n",
    "df['text']=df['text'].str.split(' ').apply(reduce_words3)   "
   ]
  },
  {
   "cell_type": "code",
   "execution_count": 13,
   "id": "c9aa61b6-069a-4427-8eb0-0f6e3187e760",
   "metadata": {},
   "outputs": [],
   "source": [
    "# removing \\n,\\t(tabs),\\r(carriage return) 's\n",
    "df['text']=df['text'].str.replace(r'[\\n\\t\\r]', '', regex=True)\n",
    "\n",
    "# combining multiple spaces to form a single space\n",
    "df['text']=df['text'].str.replace(r'\\s+', ' ', regex=True)"
   ]
  },
  {
   "cell_type": "code",
   "execution_count": 14,
   "id": "a4f074f8-12b1-42ba-a47a-56afaf7af044",
   "metadata": {},
   "outputs": [
    {
     "name": "stderr",
     "output_type": "stream",
     "text": [
      "100%|████████████████████████████████████████████████████████████████████████████| 59047/59047 [17:05<00:00, 57.58it/s]\n"
     ]
    }
   ],
   "source": [
    "# spelling correction\n",
    "\n",
    "!pip install symspellpy -q\n",
    "\n",
    "import os\n",
    "import urllib.request\n",
    "from symspellpy import SymSpell, Verbosity\n",
    "\n",
    "dictionary_path = \"frequency_dictionary_en_82_765.txt\"\n",
    "if not os.path.exists(dictionary_path):\n",
    "    url = \"https://raw.githubusercontent.com/mammothb/symspellpy/master/symspellpy/frequency_dictionary_en_82_765.txt\"\n",
    "    urllib.request.urlretrieve(url, dictionary_path)\n",
    "\n",
    "sym_spell = SymSpell(max_dictionary_edit_distance=2, prefix_length=7)\n",
    "sym_spell.load_dictionary(dictionary_path, term_index=0, count_index=1)\n",
    "\n",
    "def correct_sentence(text):\n",
    "    corrected_words = []\n",
    "    for word in str(text).split():  \n",
    "        suggestions = sym_spell.lookup(word, Verbosity.CLOSEST, max_edit_distance=2)\n",
    "        if suggestions:\n",
    "            corrected_words.append(suggestions[0].term)  \n",
    "        else:\n",
    "            corrected_words.append(word)  \n",
    "    return \" \".join(corrected_words)\n",
    "\n",
    "df['text']=df['text'].progress_apply(correct_sentence)"
   ]
  },
  {
   "cell_type": "code",
   "execution_count": 15,
   "id": "656f1882-2d3d-4a23-a3e7-2f3830975337",
   "metadata": {},
   "outputs": [
    {
     "data": {
      "text/plain": [
       "'!\"#$%&\\'()*+,-./:;<=>?@[\\\\]^_`{|}~'"
      ]
     },
     "execution_count": 15,
     "metadata": {},
     "output_type": "execute_result"
    }
   ],
   "source": [
    "import string\n",
    "string.punctuation"
   ]
  },
  {
   "cell_type": "code",
   "execution_count": 16,
   "id": "e2ab5169-cb00-4be4-aa6a-536dcb33eeea",
   "metadata": {},
   "outputs": [],
   "source": [
    "# final cleaning, but not dropping punctation\n",
    "# converting to lower case\n",
    "# removing anything inside bracket with spaces\n",
    "# Removing spaces only between single characters/numbers\n",
    "# Merging multiple spaces into a single one\n",
    "\n",
    "def reduce_words4(text):\n",
    "    text = text.lower()\n",
    "    text = re.sub(r'\\([^)]*\\)', ' ', text)    \n",
    "    text = re.sub(r'\\[[^]]*\\]', ' ', text)   \n",
    "    text = re.sub(r'\\{[^}]*\\}', ' ', text)   \n",
    "    text = re.sub(r'(?<=\\b\\w)\\s(?=\\w\\b)', '', text) \n",
    "    text = \" \".join(text.split())\n",
    "    return text\n",
    "\n",
    "    \n",
    "df['text']=df[\"text\"].apply(reduce_words4)"
   ]
  },
  {
   "cell_type": "code",
   "execution_count": 17,
   "id": "03ec191b-9005-4bbf-a091-8b494e32911a",
   "metadata": {},
   "outputs": [
    {
     "data": {
      "text/html": [
       "<div>\n",
       "<style scoped>\n",
       "    .dataframe tbody tr th:only-of-type {\n",
       "        vertical-align: middle;\n",
       "    }\n",
       "\n",
       "    .dataframe tbody tr th {\n",
       "        vertical-align: top;\n",
       "    }\n",
       "\n",
       "    .dataframe thead th {\n",
       "        text-align: right;\n",
       "    }\n",
       "</style>\n",
       "<table border=\"1\" class=\"dataframe\">\n",
       "  <thead>\n",
       "    <tr style=\"text-align: right;\">\n",
       "      <th></th>\n",
       "      <th>target</th>\n",
       "      <th>text</th>\n",
       "    </tr>\n",
       "  </thead>\n",
       "  <tbody>\n",
       "    <tr>\n",
       "      <th>0</th>\n",
       "      <td>1</td>\n",
       "      <td>to you feel the pressure to perform and not ri...</td>\n",
       "    </tr>\n",
       "    <tr>\n",
       "      <th>1</th>\n",
       "      <td>0</td>\n",
       "      <td>in i've just updated from the gurus and a chec...</td>\n",
       "    </tr>\n",
       "    <tr>\n",
       "      <th>2</th>\n",
       "      <td>1</td>\n",
       "      <td>authentic aaaaaa discount price aaaaa $discoun...</td>\n",
       "    </tr>\n",
       "    <tr>\n",
       "      <th>3</th>\n",
       "      <td>1</td>\n",
       "      <td>key billy it was really fun going out the othe...</td>\n",
       "    </tr>\n",
       "    <tr>\n",
       "      <th>4</th>\n",
       "      <td>1</td>\n",
       "      <td>multipart/alternative; quoted-printablesystem\"...</td>\n",
       "    </tr>\n",
       "  </tbody>\n",
       "</table>\n",
       "</div>"
      ],
      "text/plain": [
       "   target                                               text\n",
       "0       1  to you feel the pressure to perform and not ri...\n",
       "1       0  in i've just updated from the gurus and a chec...\n",
       "2       1  authentic aaaaaa discount price aaaaa $discoun...\n",
       "3       1  key billy it was really fun going out the othe...\n",
       "4       1  multipart/alternative; quoted-printablesystem\"..."
      ]
     },
     "execution_count": 17,
     "metadata": {},
     "output_type": "execute_result"
    }
   ],
   "source": [
    "# dropping all empty strings\n",
    "\n",
    "indices_to_drop=df[df['text'].apply(len)==0].index\n",
    "df.drop(indices_to_drop, inplace=True)\n",
    "df.index = range(len(df))\n",
    "\n",
    "df.head()"
   ]
  },
  {
   "cell_type": "code",
   "execution_count": 18,
   "id": "248d55bc-a787-44b9-83f8-c924c8007ab4",
   "metadata": {},
   "outputs": [
    {
     "name": "stderr",
     "output_type": "stream",
     "text": [
      "100%|████████████████████████████████████████████████████████████████████████| 58768/58768 [00:00<00:00, 485010.09it/s]\n",
      "100%|██████████████████████████████████████████████████████████████████████████| 58768/58768 [00:09<00:00, 6109.32it/s]\n",
      "100%|███████████████████████████████████████████████████████████████████████████| 58768/58768 [02:33<00:00, 382.63it/s]\n",
      "100%|████████████████████████████████████████████████████████████████████████| 58768/58768 [00:00<00:00, 469968.31it/s]\n"
     ]
    },
    {
     "data": {
      "text/html": [
       "<div>\n",
       "<style scoped>\n",
       "    .dataframe tbody tr th:only-of-type {\n",
       "        vertical-align: middle;\n",
       "    }\n",
       "\n",
       "    .dataframe tbody tr th {\n",
       "        vertical-align: top;\n",
       "    }\n",
       "\n",
       "    .dataframe thead th {\n",
       "        text-align: right;\n",
       "    }\n",
       "</style>\n",
       "<table border=\"1\" class=\"dataframe\">\n",
       "  <thead>\n",
       "    <tr style=\"text-align: right;\">\n",
       "      <th></th>\n",
       "      <th>target</th>\n",
       "      <th>text</th>\n",
       "      <th>num_characters</th>\n",
       "      <th>num_sentences</th>\n",
       "      <th>words_in_text</th>\n",
       "      <th>num_words</th>\n",
       "    </tr>\n",
       "  </thead>\n",
       "  <tbody>\n",
       "    <tr>\n",
       "      <th>0</th>\n",
       "      <td>1</td>\n",
       "      <td>to you feel the pressure to perform and not ri...</td>\n",
       "      <td>163</td>\n",
       "      <td>1</td>\n",
       "      <td>[to, you, feel, the, pressure, to, perform, an...</td>\n",
       "      <td>36</td>\n",
       "    </tr>\n",
       "    <tr>\n",
       "      <th>1</th>\n",
       "      <td>0</td>\n",
       "      <td>in i've just updated from the gurus and a chec...</td>\n",
       "      <td>497</td>\n",
       "      <td>4</td>\n",
       "      <td>[in, i, 've, just, updated, from, the, gurus, ...</td>\n",
       "      <td>84</td>\n",
       "    </tr>\n",
       "    <tr>\n",
       "      <th>2</th>\n",
       "      <td>1</td>\n",
       "      <td>authentic aaaaaa discount price aaaaa $discoun...</td>\n",
       "      <td>177</td>\n",
       "      <td>1</td>\n",
       "      <td>[authentic, aaaaaa, discount, price, aaaaa, $,...</td>\n",
       "      <td>31</td>\n",
       "    </tr>\n",
       "    <tr>\n",
       "      <th>3</th>\n",
       "      <td>1</td>\n",
       "      <td>key billy it was really fun going out the othe...</td>\n",
       "      <td>601</td>\n",
       "      <td>1</td>\n",
       "      <td>[key, billy, it, was, really, fun, going, out,...</td>\n",
       "      <td>123</td>\n",
       "    </tr>\n",
       "    <tr>\n",
       "      <th>4</th>\n",
       "      <td>1</td>\n",
       "      <td>multipart/alternative; quoted-printablesystem\"...</td>\n",
       "      <td>4971</td>\n",
       "      <td>9</td>\n",
       "      <td>[multipart/alternative, ;, quoted-printablesys...</td>\n",
       "      <td>869</td>\n",
       "    </tr>\n",
       "  </tbody>\n",
       "</table>\n",
       "</div>"
      ],
      "text/plain": [
       "   target                                               text  num_characters  \\\n",
       "0       1  to you feel the pressure to perform and not ri...             163   \n",
       "1       0  in i've just updated from the gurus and a chec...             497   \n",
       "2       1  authentic aaaaaa discount price aaaaa $discoun...             177   \n",
       "3       1  key billy it was really fun going out the othe...             601   \n",
       "4       1  multipart/alternative; quoted-printablesystem\"...            4971   \n",
       "\n",
       "   num_sentences                                      words_in_text  num_words  \n",
       "0              1  [to, you, feel, the, pressure, to, perform, an...         36  \n",
       "1              4  [in, i, 've, just, updated, from, the, gurus, ...         84  \n",
       "2              1  [authentic, aaaaaa, discount, price, aaaaa, $,...         31  \n",
       "3              1  [key, billy, it, was, really, fun, going, out,...        123  \n",
       "4              9  [multipart/alternative, ;, quoted-printablesys...        869  "
      ]
     },
     "execution_count": 18,
     "metadata": {},
     "output_type": "execute_result"
    }
   ],
   "source": [
    "# num of characters,words and sentences column\n",
    "\n",
    "import nltk\n",
    "nltk.download('punkt', quiet=True)\n",
    "from nltk.tokenize import word_tokenize, sent_tokenize\n",
    "\n",
    "def wrd_tkenize(text):\n",
    "    return word_tokenize(str(text))\n",
    "\n",
    "df['num_characters'] = df['text'].progress_apply(len)\n",
    "df['num_sentences'] = df['text'].progress_apply(lambda x: len(sent_tokenize(str(x))))\n",
    "\n",
    "df['words_in_text'] = df['text'].progress_apply(wrd_tkenize)\n",
    "df['num_words']=df['words_in_text'].progress_apply(len)\n",
    "\n",
    "df.head()"
   ]
  },
  {
   "cell_type": "code",
   "execution_count": 19,
   "id": "5c98b5bb-6c37-4206-a17e-336b9eb915ae",
   "metadata": {},
   "outputs": [
    {
     "data": {
      "text/html": [
       "<div>\n",
       "<style scoped>\n",
       "    .dataframe tbody tr th:only-of-type {\n",
       "        vertical-align: middle;\n",
       "    }\n",
       "\n",
       "    .dataframe tbody tr th {\n",
       "        vertical-align: top;\n",
       "    }\n",
       "\n",
       "    .dataframe thead th {\n",
       "        text-align: right;\n",
       "    }\n",
       "</style>\n",
       "<table border=\"1\" class=\"dataframe\">\n",
       "  <thead>\n",
       "    <tr style=\"text-align: right;\">\n",
       "      <th></th>\n",
       "      <th>num_characters</th>\n",
       "      <th>num_words</th>\n",
       "      <th>num_sentences</th>\n",
       "    </tr>\n",
       "  </thead>\n",
       "  <tbody>\n",
       "    <tr>\n",
       "      <th>count</th>\n",
       "      <td>58768.000000</td>\n",
       "      <td>58768.000000</td>\n",
       "      <td>58768.000000</td>\n",
       "    </tr>\n",
       "    <tr>\n",
       "      <th>mean</th>\n",
       "      <td>1597.840083</td>\n",
       "      <td>289.695906</td>\n",
       "      <td>2.800010</td>\n",
       "    </tr>\n",
       "    <tr>\n",
       "      <th>std</th>\n",
       "      <td>2964.527833</td>\n",
       "      <td>520.215944</td>\n",
       "      <td>3.775892</td>\n",
       "    </tr>\n",
       "    <tr>\n",
       "      <th>min</th>\n",
       "      <td>1.000000</td>\n",
       "      <td>1.000000</td>\n",
       "      <td>1.000000</td>\n",
       "    </tr>\n",
       "    <tr>\n",
       "      <th>25%</th>\n",
       "      <td>451.000000</td>\n",
       "      <td>86.000000</td>\n",
       "      <td>1.000000</td>\n",
       "    </tr>\n",
       "    <tr>\n",
       "      <th>50%</th>\n",
       "      <td>904.000000</td>\n",
       "      <td>162.000000</td>\n",
       "      <td>2.000000</td>\n",
       "    </tr>\n",
       "    <tr>\n",
       "      <th>75%</th>\n",
       "      <td>1699.250000</td>\n",
       "      <td>305.000000</td>\n",
       "      <td>3.000000</td>\n",
       "    </tr>\n",
       "    <tr>\n",
       "      <th>max</th>\n",
       "      <td>316927.000000</td>\n",
       "      <td>52604.000000</td>\n",
       "      <td>145.000000</td>\n",
       "    </tr>\n",
       "  </tbody>\n",
       "</table>\n",
       "</div>"
      ],
      "text/plain": [
       "       num_characters     num_words  num_sentences\n",
       "count    58768.000000  58768.000000   58768.000000\n",
       "mean      1597.840083    289.695906       2.800010\n",
       "std       2964.527833    520.215944       3.775892\n",
       "min          1.000000      1.000000       1.000000\n",
       "25%        451.000000     86.000000       1.000000\n",
       "50%        904.000000    162.000000       2.000000\n",
       "75%       1699.250000    305.000000       3.000000\n",
       "max     316927.000000  52604.000000     145.000000"
      ]
     },
     "execution_count": 19,
     "metadata": {},
     "output_type": "execute_result"
    }
   ],
   "source": [
    "df[['num_characters','num_words','num_sentences']].describe()"
   ]
  },
  {
   "cell_type": "code",
   "execution_count": 20,
   "id": "88db8d1d-c967-4361-a962-6189bcb3f6b3",
   "metadata": {},
   "outputs": [
    {
     "name": "stderr",
     "output_type": "stream",
     "text": [
      "100%|███████████████████████████████████████████████████████████████████████████| 58768/58768 [05:15<00:00, 186.35it/s]\n"
     ]
    }
   ],
   "source": [
    "# transforming the text\n",
    "# convert to lower case- already there\n",
    "# tokenization\n",
    "# remove special characters\n",
    "# remove stop words and punctuations()\n",
    "# stemming\n",
    "\n",
    "from nltk.stem.porter import PorterStemmer\n",
    "ps = PorterStemmer()\n",
    "\n",
    "nltk.download('stopwords',quiet=True)\n",
    "from nltk.corpus import stopwords\n",
    "stop_words = set(stopwords.words('english'))\n",
    "\n",
    "def transform_text(L):\n",
    "    tokens = [t for t in L if t.isalnum()]\n",
    "    tokens = [t for t in tokens if t not in stop_words]\n",
    "    tokens = [ps.stem(t) for t in tokens]\n",
    "    return \" \".join(tokens)\n",
    "\n",
    "df['transformed_text'] = df['words_in_text'].progress_apply(transform_text)    "
   ]
  },
  {
   "cell_type": "code",
   "execution_count": 21,
   "id": "b644c7bf-64a1-4878-a664-024bec2ed50d",
   "metadata": {},
   "outputs": [
    {
     "data": {
      "text/html": [
       "<div>\n",
       "<style scoped>\n",
       "    .dataframe tbody tr th:only-of-type {\n",
       "        vertical-align: middle;\n",
       "    }\n",
       "\n",
       "    .dataframe tbody tr th {\n",
       "        vertical-align: top;\n",
       "    }\n",
       "\n",
       "    .dataframe thead th {\n",
       "        text-align: right;\n",
       "    }\n",
       "</style>\n",
       "<table border=\"1\" class=\"dataframe\">\n",
       "  <thead>\n",
       "    <tr style=\"text-align: right;\">\n",
       "      <th></th>\n",
       "      <th>target</th>\n",
       "      <th>text</th>\n",
       "      <th>num_characters</th>\n",
       "      <th>num_sentences</th>\n",
       "      <th>words_in_text</th>\n",
       "      <th>num_words</th>\n",
       "      <th>transformed_text</th>\n",
       "    </tr>\n",
       "  </thead>\n",
       "  <tbody>\n",
       "    <tr>\n",
       "      <th>0</th>\n",
       "      <td>1</td>\n",
       "      <td>to you feel the pressure to perform and not ri...</td>\n",
       "      <td>163</td>\n",
       "      <td>1</td>\n",
       "      <td>[to, you, feel, the, pressure, to, perform, an...</td>\n",
       "      <td>36</td>\n",
       "      <td>feel pressur perform rise occas tri aa anxieti...</td>\n",
       "    </tr>\n",
       "    <tr>\n",
       "      <th>1</th>\n",
       "      <td>0</td>\n",
       "      <td>in i've just updated from the gurus and a chec...</td>\n",
       "      <td>497</td>\n",
       "      <td>4</td>\n",
       "      <td>[in, i, 've, just, updated, from, the, gurus, ...</td>\n",
       "      <td>84</td>\n",
       "      <td>updat guru check seem littl typo lenni access ...</td>\n",
       "    </tr>\n",
       "    <tr>\n",
       "      <th>2</th>\n",
       "      <td>1</td>\n",
       "      <td>authentic aaaaaa discount price aaaaa $discoun...</td>\n",
       "      <td>177</td>\n",
       "      <td>1</td>\n",
       "      <td>[authentic, aaaaaa, discount, price, aaaaa, $,...</td>\n",
       "      <td>31</td>\n",
       "      <td>authent aaaaaa discount price aaaaa discount p...</td>\n",
       "    </tr>\n",
       "  </tbody>\n",
       "</table>\n",
       "</div>"
      ],
      "text/plain": [
       "   target                                               text  num_characters  \\\n",
       "0       1  to you feel the pressure to perform and not ri...             163   \n",
       "1       0  in i've just updated from the gurus and a chec...             497   \n",
       "2       1  authentic aaaaaa discount price aaaaa $discoun...             177   \n",
       "\n",
       "   num_sentences                                      words_in_text  \\\n",
       "0              1  [to, you, feel, the, pressure, to, perform, an...   \n",
       "1              4  [in, i, 've, just, updated, from, the, gurus, ...   \n",
       "2              1  [authentic, aaaaaa, discount, price, aaaaa, $,...   \n",
       "\n",
       "   num_words                                   transformed_text  \n",
       "0         36  feel pressur perform rise occas tri aa anxieti...  \n",
       "1         84  updat guru check seem littl typo lenni access ...  \n",
       "2         31  authent aaaaaa discount price aaaaa discount p...  "
      ]
     },
     "execution_count": 21,
     "metadata": {},
     "output_type": "execute_result"
    }
   ],
   "source": [
    "df.head(3)"
   ]
  },
  {
   "cell_type": "code",
   "execution_count": 22,
   "id": "e12e6563-3fcc-4a95-b71c-726dc0cfa7be",
   "metadata": {},
   "outputs": [
    {
     "data": {
      "text/plain": [
       "target\n",
       "1    33158\n",
       "0    24483\n",
       "Name: count, dtype: int64"
      ]
     },
     "execution_count": 22,
     "metadata": {},
     "output_type": "execute_result"
    }
   ],
   "source": [
    "# again dropping the rows which are empty after transformation\n",
    "\n",
    "L3=df[df['transformed_text'] == \"\"].index\n",
    "df.drop(L3,inplace=True)\n",
    "\n",
    "df['target'].value_counts()# fairly balanced dataset"
   ]
  },
  {
   "cell_type": "code",
   "execution_count": 23,
   "id": "a237b3ca-ac68-43fd-aeab-04c0c59c854c",
   "metadata": {},
   "outputs": [
    {
     "name": "stdout",
     "output_type": "stream",
     "text": [
      "total words in spam 4521057\n",
      "total words in ham 3797029\n"
     ]
    },
    {
     "data": {
      "image/png": "[encoded data removed]",
      "text/plain": [
       "<Figure size 640x480 with 1 Axes>"
      ]
     },
     "metadata": {},
     "output_type": "display_data"
    },
    {
     "data": {
      "image/png": "[encoded data removed]",
      "text/plain": [
       "<Figure size 640x480 with 1 Axes>"
      ]
     },
     "metadata": {},
     "output_type": "display_data"
    }
   ],
   "source": [
    "# most common words in spam and ham\n",
    "\n",
    "spam_corpus = []\n",
    "for msg in df[df['target'] == 1]['transformed_text'].tolist():\n",
    "    for word in msg.split():\n",
    "        spam_corpus.append(word)\n",
    "print('total words in spam',len(spam_corpus))\n",
    "\n",
    "ham_corpus = []\n",
    "for msg in df[df['target'] == 0]['transformed_text'].tolist():\n",
    "    for word in msg.split():\n",
    "        ham_corpus.append(word)\n",
    "\n",
    "print('total words in ham',len(ham_corpus))        \n",
    "\n",
    "plt.figure()\n",
    "spam_words = pd.Series(spam_corpus)\n",
    "spam_words.value_counts().head(30).plot(kind='bar', color='red')\n",
    "plt.title(\"Top 30 Spam Words\")\n",
    "plt.show()\n",
    "\n",
    "# Ham words figure\n",
    "plt.figure()\n",
    "ham_words = pd.Series(ham_corpus)\n",
    "ham_words.value_counts().head(30).plot(kind='bar', color='blue')\n",
    "plt.title(\"Top 30 Ham Words\")\n",
    "plt.show()"
   ]
  },
  {
   "cell_type": "code",
   "execution_count": 24,
   "id": "7c2b355e-6e0d-494b-8b41-48e1e21d41ef",
   "metadata": {},
   "outputs": [],
   "source": [
    "# export dataset"
   ]
  },
  {
   "cell_type": "code",
   "execution_count": 25,
   "id": "6983e6b9-8056-48fa-b80b-7f359cfc6145",
   "metadata": {},
   "outputs": [],
   "source": [
    "#file_name='emails_cleaned'\n",
    "#df.to_csv(file_name + \".csv\", index=False)"
   ]
  },
  {
   "cell_type": "code",
   "execution_count": null,
   "id": "eea4247b-42c4-4ebd-9a18-1b35446c918e",
   "metadata": {},
   "outputs": [],
   "source": []
  },
  {
   "cell_type": "code",
   "execution_count": 26,
   "id": "a30f9273-46b3-4e95-a7f2-2e7dfe3b9f04",
   "metadata": {},
   "outputs": [],
   "source": [
    "#df=pd.read_csv('emails_cleaned.csv')"
   ]
  },
  {
   "cell_type": "code",
   "execution_count": 27,
   "id": "a9e8ba9c-9e54-4ca5-a1dc-bf19a5f695af",
   "metadata": {},
   "outputs": [
    {
     "data": {
      "text/plain": [
       "(57641, 7)"
      ]
     },
     "execution_count": 27,
     "metadata": {},
     "output_type": "execute_result"
    }
   ],
   "source": [
    "df.shape"
   ]
  },
  {
   "cell_type": "code",
   "execution_count": 28,
   "id": "e14d9c49-96e1-4eda-9afb-a7a2094239fa",
   "metadata": {},
   "outputs": [
    {
     "name": "stdout",
     "output_type": "stream",
     "text": [
      "<class 'pandas.core.frame.DataFrame'>\n",
      "Index: 57641 entries, 0 to 58767\n",
      "Data columns (total 7 columns):\n",
      " #   Column            Non-Null Count  Dtype \n",
      "---  ------            --------------  ----- \n",
      " 0   target            57641 non-null  int64 \n",
      " 1   text              57641 non-null  object\n",
      " 2   num_characters    57641 non-null  int64 \n",
      " 3   num_sentences     57641 non-null  int64 \n",
      " 4   words_in_text     57641 non-null  object\n",
      " 5   num_words         57641 non-null  int64 \n",
      " 6   transformed_text  57641 non-null  object\n",
      "dtypes: int64(4), object(3)\n",
      "memory usage: 3.5+ MB\n"
     ]
    }
   ],
   "source": [
    "df.info()"
   ]
  },
  {
   "cell_type": "markdown",
   "id": "61a2cf26-505c-4989-8da3-3f6f62e716b4",
   "metadata": {},
   "source": [
    "MODEL SELECTION "
   ]
  },
  {
   "cell_type": "code",
   "execution_count": 29,
   "id": "bce31ae9-da81-4828-8727-121ee78b6397",
   "metadata": {},
   "outputs": [],
   "source": [
    "# using naive bayes"
   ]
  },
  {
   "cell_type": "code",
   "execution_count": 30,
   "id": "642cff5e-593f-450f-b8bc-3334a06fbb99",
   "metadata": {},
   "outputs": [],
   "source": [
    "# firstly we would use count vectorizer and next we would be using tfidf"
   ]
  },
  {
   "cell_type": "code",
   "execution_count": 31,
   "id": "6860b6af-58ba-4d15-b781-16b7b37b6088",
   "metadata": {},
   "outputs": [],
   "source": [
    "# using count vectorizer"
   ]
  },
  {
   "cell_type": "code",
   "execution_count": 32,
   "id": "599bc7ea-d859-4ac6-be9e-9219dbd3af55",
   "metadata": {},
   "outputs": [
    {
     "name": "stdout",
     "output_type": "stream",
     "text": [
      "(46112, 247141) (11529, 247141)\n",
      "<class 'scipy.sparse._csr.csr_matrix'>\n"
     ]
    }
   ],
   "source": [
    "from sklearn.feature_extraction.text import CountVectorizer\n",
    "from sklearn.model_selection import train_test_split\n",
    "\n",
    "# Keep ALL features\n",
    "cv = CountVectorizer()  \n",
    "x = cv.fit_transform(df['transformed_text'])   # sparse matrix \n",
    "\n",
    "y = df['target'].values\n",
    "\n",
    "# train/test split\n",
    "x_train, x_test, y_train, y_test = train_test_split(\n",
    "    x, y, test_size=0.2, random_state=2\n",
    ")\n",
    "\n",
    "print(x_train.shape, x_test.shape)\n",
    "print(type(x_train))\n",
    "\n",
    "from sklearn.naive_bayes import GaussianNB,MultinomialNB,BernoulliNB\n",
    "from sklearn.metrics import accuracy_score, confusion_matrix, precision_score, recall_score, f1_score\n",
    "\n",
    "mnb = MultinomialNB()\n",
    "bnb = BernoulliNB()"
   ]
  },
  {
   "cell_type": "code",
   "execution_count": 33,
   "id": "4af96d4b-0b62-4acb-b275-a35767c7c933",
   "metadata": {},
   "outputs": [
    {
     "name": "stdout",
     "output_type": "stream",
     "text": [
      "0.9541157082140689\n",
      "[[4850   37]\n",
      " [ 492 6150]]\n",
      "0.9940197187651527\n"
     ]
    }
   ],
   "source": [
    "mnb.fit(x_train,y_train)\n",
    "y_pred2 = mnb.predict(x_test)\n",
    "print(accuracy_score(y_test,y_pred2))\n",
    "print(confusion_matrix(y_test,y_pred2))\n",
    "print(precision_score(y_test,y_pred2))"
   ]
  },
  {
   "cell_type": "code",
   "execution_count": 34,
   "id": "de9b2650-867d-4cb4-8870-95070d9c94d1",
   "metadata": {},
   "outputs": [
    {
     "name": "stdout",
     "output_type": "stream",
     "text": [
      "0.949084916298031\n",
      "[[4633  254]\n",
      " [ 333 6309]]\n",
      "0.9612981868048148\n"
     ]
    }
   ],
   "source": [
    "bnb.fit(x_train,y_train)\n",
    "y_pred3 = bnb.predict(x_test)\n",
    "print(accuracy_score(y_test,y_pred3))\n",
    "print(confusion_matrix(y_test,y_pred3))\n",
    "print(precision_score(y_test,y_pred3))"
   ]
  },
  {
   "cell_type": "code",
   "execution_count": 35,
   "id": "8c8ba648-4c72-4a02-8c5f-c184868a7034",
   "metadata": {},
   "outputs": [],
   "source": [
    "# although gave good results, lets try using tfidf too"
   ]
  },
  {
   "cell_type": "code",
   "execution_count": 36,
   "id": "2d707d3b-467b-45ff-a18a-5993823bc220",
   "metadata": {},
   "outputs": [],
   "source": [
    "# tfidf"
   ]
  },
  {
   "cell_type": "code",
   "execution_count": 37,
   "id": "dd479fdf-0060-4201-880a-9a1a90784e7d",
   "metadata": {},
   "outputs": [],
   "source": [
    "from sklearn.feature_extraction.text import TfidfVectorizer\n",
    "from sklearn.model_selection import train_test_split\n",
    "\n",
    "# Useing TF-IDF \n",
    "tfidf = TfidfVectorizer()\n",
    "\n",
    "x = tfidf.fit_transform(df['transformed_text'])  \n",
    "y = df['target'].values\n",
    "\n",
    "x_train, x_test, y_train, y_test = train_test_split(\n",
    "    x, y, test_size=0.2, random_state=2)\n",
    "\n",
    "mnb = MultinomialNB()\n",
    "bnb = BernoulliNB()"
   ]
  },
  {
   "cell_type": "code",
   "execution_count": 38,
   "id": "903a8aa6-63c5-451a-b3d1-88561ac2f56b",
   "metadata": {},
   "outputs": [
    {
     "name": "stdout",
     "output_type": "stream",
     "text": [
      "0.9682539682539683\n",
      "[[4708  179]\n",
      " [ 187 6455]]\n",
      "0.9730177871570697\n"
     ]
    }
   ],
   "source": [
    "mnb.fit(x_train,y_train)\n",
    "y_pred2 = mnb.predict(x_test)\n",
    "print(accuracy_score(y_test,y_pred2))\n",
    "print(confusion_matrix(y_test,y_pred2))\n",
    "print(precision_score(y_test,y_pred2))"
   ]
  },
  {
   "cell_type": "code",
   "execution_count": 39,
   "id": "e822d033-f090-4998-b506-a1d4974f4406",
   "metadata": {},
   "outputs": [
    {
     "name": "stdout",
     "output_type": "stream",
     "text": [
      "0.949084916298031\n",
      "[[4633  254]\n",
      " [ 333 6309]]\n",
      "0.9612981868048148\n"
     ]
    }
   ],
   "source": [
    "bnb.fit(x_train,y_train)\n",
    "y_pred3 = bnb.predict(x_test)\n",
    "print(accuracy_score(y_test,y_pred3))\n",
    "print(confusion_matrix(y_test,y_pred3))\n",
    "print(precision_score(y_test,y_pred3))"
   ]
  },
  {
   "cell_type": "code",
   "execution_count": 40,
   "id": "f497cb46-4304-4f00-8386-4261644206e2",
   "metadata": {},
   "outputs": [],
   "source": [
    "#logistic regresssion\n",
    "#Initially we would use gcv to find best parameters and than use those in the logistic regression and will also apply \n",
    "# the cross validation to get a mean precision value"
   ]
  },
  {
   "cell_type": "code",
   "execution_count": 41,
   "id": "57603a45-9f75-4500-9368-8166f1e65a82",
   "metadata": {},
   "outputs": [
    {
     "name": "stdout",
     "output_type": "stream",
     "text": [
      "Fitting 5 folds for each of 12 candidates, totalling 60 fits\n",
      "Best parameters: {'C': 1000, 'penalty': 'l1'}\n",
      "Best CV precision: 0.9860758146701512\n"
     ]
    }
   ],
   "source": [
    "from sklearn.model_selection import GridSearchCV\n",
    "from sklearn.linear_model import LogisticRegression\n",
    "\n",
    "\n",
    "tfidf = TfidfVectorizer()\n",
    "X = tfidf.fit_transform(df['transformed_text'])\n",
    "y = df['target'].values\n",
    "X_train, X_test, y_train, y_test = train_test_split(\n",
    "    X, y, test_size=0.2, random_state=2)\n",
    "\n",
    "logreg = LogisticRegression(solver='liblinear', max_iter=1000)\n",
    "\n",
    "#hyperparameter grid (regularization and parameter)\n",
    "param_grid = {\n",
    "    'C': [0.01, 0.1, 1, 10, 100,1000],      \n",
    "    'penalty': ['l1', 'l2']}\n",
    "\n",
    "#Initializing GridSearchCV\n",
    "grid = GridSearchCV(\n",
    "    estimator=logreg,\n",
    "    param_grid=param_grid,\n",
    "    scoring='precision',   \n",
    "    cv=5,                 \n",
    "    n_jobs=-1,            \n",
    "    verbose=2)\n",
    "\n",
    "#Fitting the grid search\n",
    "grid.fit(X_train, y_train)\n",
    "\n",
    "print(\"Best parameters:\", grid.best_params_)\n",
    "print(\"Best CV precision:\", grid.best_score_)\n"
   ]
  },
  {
   "cell_type": "code",
   "execution_count": 42,
   "id": "3e638897-9d17-4f62-a3be-988292fc0bdf",
   "metadata": {},
   "outputs": [
    {
     "name": "stdout",
     "output_type": "stream",
     "text": [
      "Precision scores for each fold: [0.98392965 0.98470012 0.97838811 0.98479831 0.98065967]\n",
      "Mean precision: 0.9824951749261632\n"
     ]
    }
   ],
   "source": [
    "from sklearn.model_selection import cross_val_score\n",
    "\n",
    "tfidf = TfidfVectorizer()\n",
    "X = tfidf.fit_transform(df['transformed_text'])\n",
    "y = df['target'].values\n",
    "\n",
    "logreg = LogisticRegression(\n",
    "    solver='liblinear',\n",
    "    C=grid.best_params_['C'],\n",
    "    penalty=grid.best_params_['penalty'],\n",
    "    max_iter=1000)\n",
    "\n",
    "# Applying KFold cross-validation\n",
    "precision_scores = cross_val_score(logreg, X, y, cv=5, scoring='precision')\n",
    "\n",
    "print(\"Precision scores for each fold:\", precision_scores)\n",
    "print(\"Mean precision:\", precision_scores.mean())"
   ]
  },
  {
   "cell_type": "code",
   "execution_count": 43,
   "id": "63bf3d2a-09b7-4a5d-8872-5f82413b3ce1",
   "metadata": {},
   "outputs": [
    {
     "name": "stdout",
     "output_type": "stream",
     "text": [
      "Test Accuracy: 0.9825657038771793\n",
      "Confusion Matrix:\n",
      " [[4766  121]\n",
      " [  80 6562]]\n",
      "Precision: 0.9818943588208888\n",
      "Recall: 0.9879554351099067\n",
      "F1 Score: 0.9849155722326454\n"
     ]
    }
   ],
   "source": [
    "# 8. Evaluating on test set\n",
    "best_logreg = grid.best_estimator_\n",
    "y_pred = best_logreg.predict(X_test)\n",
    "\n",
    "\n",
    "print(\"Test Accuracy:\", accuracy_score(y_test, y_pred))\n",
    "print(\"Confusion Matrix:\\n\", confusion_matrix(y_test, y_pred))\n",
    "print(\"Precision:\", precision_score(y_test, y_pred))\n",
    "print(\"Recall:\", recall_score(y_test, y_pred))\n",
    "print(\"F1 Score:\", f1_score(y_test, y_pred))"
   ]
  },
  {
   "cell_type": "code",
   "execution_count": 44,
   "id": "61f10f1d-a1c5-4784-ad38-d9ec87fa71ac",
   "metadata": {},
   "outputs": [],
   "source": [
    "#  Using Recurrent Neural Network"
   ]
  },
  {
   "cell_type": "code",
   "execution_count": 45,
   "id": "8a91b981-f953-4c6e-8389-4994df5e0da3",
   "metadata": {},
   "outputs": [],
   "source": [
    "import tensorflow\n",
    "from tensorflow import keras\n",
    "from tensorflow.keras import Sequential \n",
    "from tensorflow.keras.layers import Dense, Input, Dropout\n",
    "from tensorflow.keras.optimizers import Adam\n",
    "from tensorflow.keras.regularizers import l2\n",
    "\n",
    "from tensorflow.keras.preprocessing.sequence import pad_sequences\n",
    "from tensorflow.keras.models import Sequential\n",
    "from tensorflow.keras.layers import Embedding, SimpleRNN, Dense, Dropout\n",
    "from sklearn.model_selection import train_test_split\n",
    "from tensorflow.keras.callbacks import EarlyStopping"
   ]
  },
  {
   "cell_type": "code",
   "execution_count": 46,
   "id": "98ac34c8-bdec-4d00-a976-2e2d0cebbf3d",
   "metadata": {},
   "outputs": [],
   "source": [
    "from tensorflow.keras.preprocessing.text import Tokenizer\n",
    "\n",
    "# Parameters(training the whole data is time cosuming and the accuracy,precision isnt too high)\n",
    "\n",
    "max_vocab = 30000     # keeping only top 30k words\n",
    "max_len = 400         # max sequence length (padding)\n",
    "embedding_dim = 200   # embedding size\n",
    "\n",
    "# Tokenize text\n",
    "tokenizer = Tokenizer(num_words=max_vocab, oov_token=\"<OOV>\")\n",
    "tokenizer.fit_on_texts(df['transformed_text'])\n",
    "sequences = tokenizer.texts_to_sequences(df['transformed_text'])\n",
    "\n",
    "# Pad sequences\n",
    "X = pad_sequences(sequences, maxlen=max_len)\n",
    "y = df['target'].values  # 0 = ham, 1 = spam\n",
    "\n",
    "# Train/test split\n",
    "X_train, X_test, y_train, y_test = train_test_split(X, y, test_size=0.2, random_state=42)"
   ]
  },
  {
   "cell_type": "code",
   "execution_count": 50,
   "id": "99407462-81c3-4786-a8b7-2bf9de5e2043",
   "metadata": {},
   "outputs": [
    {
     "data": {
      "text/html": [
       "<pre style=\"white-space:pre;overflow-x:auto;line-height:normal;font-family:Menlo,'DejaVu Sans Mono',consolas,'Courier New',monospace\"><span style=\"font-weight: bold\">Model: \"email_classifier\"</span>\n",
       "</pre>\n"
      ],
      "text/plain": [
       "\u001b[1mModel: \"email_classifier\"\u001b[0m\n"
      ]
     },
     "metadata": {},
     "output_type": "display_data"
    },
    {
     "data": {
      "text/html": [
       "<pre style=\"white-space:pre;overflow-x:auto;line-height:normal;font-family:Menlo,'DejaVu Sans Mono',consolas,'Courier New',monospace\">┏━━━━━━━━━━━━━━━━━━━━━━━━━━━━━━━━━━━━━━┳━━━━━━━━━━━━━━━━━━━━━━━━━━━━━┳━━━━━━━━━━━━━━━━━┓\n",
       "┃<span style=\"font-weight: bold\"> Layer (type)                         </span>┃<span style=\"font-weight: bold\"> Output Shape                </span>┃<span style=\"font-weight: bold\">         Param # </span>┃\n",
       "┡━━━━━━━━━━━━━━━━━━━━━━━━━━━━━━━━━━━━━━╇━━━━━━━━━━━━━━━━━━━━━━━━━━━━━╇━━━━━━━━━━━━━━━━━┩\n",
       "│ embedding_1 (<span style=\"color: #0087ff; text-decoration-color: #0087ff\">Embedding</span>)              │ (<span style=\"color: #00d7ff; text-decoration-color: #00d7ff\">None</span>, <span style=\"color: #00af00; text-decoration-color: #00af00\">400</span>, <span style=\"color: #00af00; text-decoration-color: #00af00\">200</span>)            │       <span style=\"color: #00af00; text-decoration-color: #00af00\">6,000,000</span> │\n",
       "├──────────────────────────────────────┼─────────────────────────────┼─────────────────┤\n",
       "│ simple_rnn_1 (<span style=\"color: #0087ff; text-decoration-color: #0087ff\">SimpleRNN</span>)             │ (<span style=\"color: #00d7ff; text-decoration-color: #00d7ff\">None</span>, <span style=\"color: #00af00; text-decoration-color: #00af00\">128</span>)                 │          <span style=\"color: #00af00; text-decoration-color: #00af00\">42,112</span> │\n",
       "├──────────────────────────────────────┼─────────────────────────────┼─────────────────┤\n",
       "│ dropout_1 (<span style=\"color: #0087ff; text-decoration-color: #0087ff\">Dropout</span>)                  │ (<span style=\"color: #00d7ff; text-decoration-color: #00d7ff\">None</span>, <span style=\"color: #00af00; text-decoration-color: #00af00\">128</span>)                 │               <span style=\"color: #00af00; text-decoration-color: #00af00\">0</span> │\n",
       "├──────────────────────────────────────┼─────────────────────────────┼─────────────────┤\n",
       "│ dense_1 (<span style=\"color: #0087ff; text-decoration-color: #0087ff\">Dense</span>)                      │ (<span style=\"color: #00d7ff; text-decoration-color: #00d7ff\">None</span>, <span style=\"color: #00af00; text-decoration-color: #00af00\">1</span>)                   │             <span style=\"color: #00af00; text-decoration-color: #00af00\">129</span> │\n",
       "└──────────────────────────────────────┴─────────────────────────────┴─────────────────┘\n",
       "</pre>\n"
      ],
      "text/plain": [
       "┏━━━━━━━━━━━━━━━━━━━━━━━━━━━━━━━━━━━━━━┳━━━━━━━━━━━━━━━━━━━━━━━━━━━━━┳━━━━━━━━━━━━━━━━━┓\n",
       "┃\u001b[1m \u001b[0m\u001b[1mLayer (type)                        \u001b[0m\u001b[1m \u001b[0m┃\u001b[1m \u001b[0m\u001b[1mOutput Shape               \u001b[0m\u001b[1m \u001b[0m┃\u001b[1m \u001b[0m\u001b[1m        Param #\u001b[0m\u001b[1m \u001b[0m┃\n",
       "┡━━━━━━━━━━━━━━━━━━━━━━━━━━━━━━━━━━━━━━╇━━━━━━━━━━━━━━━━━━━━━━━━━━━━━╇━━━━━━━━━━━━━━━━━┩\n",
       "│ embedding_1 (\u001b[38;5;33mEmbedding\u001b[0m)              │ (\u001b[38;5;45mNone\u001b[0m, \u001b[38;5;34m400\u001b[0m, \u001b[38;5;34m200\u001b[0m)            │       \u001b[38;5;34m6,000,000\u001b[0m │\n",
       "├──────────────────────────────────────┼─────────────────────────────┼─────────────────┤\n",
       "│ simple_rnn_1 (\u001b[38;5;33mSimpleRNN\u001b[0m)             │ (\u001b[38;5;45mNone\u001b[0m, \u001b[38;5;34m128\u001b[0m)                 │          \u001b[38;5;34m42,112\u001b[0m │\n",
       "├──────────────────────────────────────┼─────────────────────────────┼─────────────────┤\n",
       "│ dropout_1 (\u001b[38;5;33mDropout\u001b[0m)                  │ (\u001b[38;5;45mNone\u001b[0m, \u001b[38;5;34m128\u001b[0m)                 │               \u001b[38;5;34m0\u001b[0m │\n",
       "├──────────────────────────────────────┼─────────────────────────────┼─────────────────┤\n",
       "│ dense_1 (\u001b[38;5;33mDense\u001b[0m)                      │ (\u001b[38;5;45mNone\u001b[0m, \u001b[38;5;34m1\u001b[0m)                   │             \u001b[38;5;34m129\u001b[0m │\n",
       "└──────────────────────────────────────┴─────────────────────────────┴─────────────────┘\n"
      ]
     },
     "metadata": {},
     "output_type": "display_data"
    },
    {
     "data": {
      "text/html": [
       "<pre style=\"white-space:pre;overflow-x:auto;line-height:normal;font-family:Menlo,'DejaVu Sans Mono',consolas,'Courier New',monospace\"><span style=\"font-weight: bold\"> Total params: </span><span style=\"color: #00af00; text-decoration-color: #00af00\">6,042,241</span> (23.05 MB)\n",
       "</pre>\n"
      ],
      "text/plain": [
       "\u001b[1m Total params: \u001b[0m\u001b[38;5;34m6,042,241\u001b[0m (23.05 MB)\n"
      ]
     },
     "metadata": {},
     "output_type": "display_data"
    },
    {
     "data": {
      "text/html": [
       "<pre style=\"white-space:pre;overflow-x:auto;line-height:normal;font-family:Menlo,'DejaVu Sans Mono',consolas,'Courier New',monospace\"><span style=\"font-weight: bold\"> Trainable params: </span><span style=\"color: #00af00; text-decoration-color: #00af00\">6,042,241</span> (23.05 MB)\n",
       "</pre>\n"
      ],
      "text/plain": [
       "\u001b[1m Trainable params: \u001b[0m\u001b[38;5;34m6,042,241\u001b[0m (23.05 MB)\n"
      ]
     },
     "metadata": {},
     "output_type": "display_data"
    },
    {
     "data": {
      "text/html": [
       "<pre style=\"white-space:pre;overflow-x:auto;line-height:normal;font-family:Menlo,'DejaVu Sans Mono',consolas,'Courier New',monospace\"><span style=\"font-weight: bold\"> Non-trainable params: </span><span style=\"color: #00af00; text-decoration-color: #00af00\">0</span> (0.00 B)\n",
       "</pre>\n"
      ],
      "text/plain": [
       "\u001b[1m Non-trainable params: \u001b[0m\u001b[38;5;34m0\u001b[0m (0.00 B)\n"
      ]
     },
     "metadata": {},
     "output_type": "display_data"
    }
   ],
   "source": [
    "#Simple RNN model\n",
    "model = Sequential(name=\"email_classifier\")\n",
    "model.add(Input(shape=(max_len,)))\n",
    "model.add(Embedding(input_dim=max_vocab, output_dim=embedding_dim))\n",
    "model.add(SimpleRNN(128))\n",
    "model.add(Dropout(0.5))\n",
    "model.add(Dense(1, activation='sigmoid'))  \n",
    "\n",
    "model.summary()"
   ]
  },
  {
   "cell_type": "code",
   "execution_count": 51,
   "id": "7d2bea08-8c58-493d-ba43-097982e065e7",
   "metadata": {},
   "outputs": [
    {
     "name": "stdout",
     "output_type": "stream",
     "text": [
      "Epoch 1/10\n",
      "\u001b[1m289/289\u001b[0m \u001b[32m━━━━━━━━━━━━━━━━━━━━\u001b[0m\u001b[37m\u001b[0m \u001b[1m211s\u001b[0m 718ms/step - accuracy: 0.9446 - loss: 0.1388 - precision: 0.9500 - val_accuracy: 0.9875 - val_loss: 0.0434 - val_precision: 0.9899\n",
      "Epoch 2/10\n",
      "\u001b[1m289/289\u001b[0m \u001b[32m━━━━━━━━━━━━━━━━━━━━\u001b[0m\u001b[37m\u001b[0m \u001b[1m207s\u001b[0m 718ms/step - accuracy: 0.9938 - loss: 0.0226 - precision: 0.9934 - val_accuracy: 0.9887 - val_loss: 0.0415 - val_precision: 0.9903\n",
      "Epoch 3/10\n",
      "\u001b[1m289/289\u001b[0m \u001b[32m━━━━━━━━━━━━━━━━━━━━\u001b[0m\u001b[37m\u001b[0m \u001b[1m259s\u001b[0m 708ms/step - accuracy: 0.9972 - loss: 0.0092 - precision: 0.9970 - val_accuracy: 0.9894 - val_loss: 0.0440 - val_precision: 0.9890\n",
      "Epoch 4/10\n",
      "\u001b[1m289/289\u001b[0m \u001b[32m━━━━━━━━━━━━━━━━━━━━\u001b[0m\u001b[37m\u001b[0m \u001b[1m203s\u001b[0m 704ms/step - accuracy: 0.9976 - loss: 0.0097 - precision: 0.9981 - val_accuracy: 0.9856 - val_loss: 0.0507 - val_precision: 0.9837\n",
      "Epoch 4: early stopping\n",
      "Restoring model weights from the end of the best epoch: 2.\n"
     ]
    }
   ],
   "source": [
    "# Compile\n",
    "model.compile(loss='binary_crossentropy', optimizer='adam', metrics=['accuracy','precision'])\n",
    "callback=EarlyStopping(monitor='val_loss',\n",
    "                       min_delta=0.0001,\n",
    "                       patience=2,\n",
    "                       mode='auto',\n",
    "                       baseline=None,\n",
    "                       restore_best_weights=True,\n",
    "                       verbose=1)\n",
    "\n",
    "# Train\n",
    "history = model.fit(X_train, y_train,epochs=10,batch_size=128,validation_split=0.2,verbose=1,callbacks=callback)\n"
   ]
  },
  {
   "cell_type": "code",
   "execution_count": 52,
   "id": "2c39dcf2-527e-4a75-8e7b-15c64ba3fe9c",
   "metadata": {},
   "outputs": [
    {
     "data": {
      "image/png": "[encoded data removed]",
      "text/plain": [
       "<Figure size 640x480 with 1 Axes>"
      ]
     },
     "metadata": {},
     "output_type": "display_data"
    },
    {
     "name": "stdout",
     "output_type": "stream",
     "text": [
      "\u001b[1m1441/1441\u001b[0m \u001b[32m━━━━━━━━━━━━━━━━━━━━\u001b[0m\u001b[37m\u001b[0m \u001b[1m106s\u001b[0m 74ms/step\n",
      "\u001b[1m361/361\u001b[0m \u001b[32m━━━━━━━━━━━━━━━━━━━━\u001b[0m\u001b[37m\u001b[0m \u001b[1m27s\u001b[0m 75ms/step\n",
      "\n",
      "Training Metrics:\n",
      "Accuracy: 0.9962265787647467\n",
      "Precision: 0.9965314432212335\n",
      "Recall: 0.9969072942596364\n",
      "F1 Score: 0.9967193333081942\n",
      "\n",
      "Testing Metrics:\n",
      "Accuracy: 0.9883771359181195\n",
      "Precision: 0.9888855512165815\n",
      "Recall: 0.9909692956050572\n",
      "F1 Score: 0.9899263268681401\n",
      "\n",
      "Confusion Matrix (Test):\n",
      "[[4811   74]\n",
      " [  60 6584]]\n"
     ]
    }
   ],
   "source": [
    "# training vs validation accuracy plots\n",
    "plt.plot(history.history['accuracy'], label='Train Accuracy')\n",
    "plt.plot(history.history['val_accuracy'], label='Val Accuracy')\n",
    "plt.xlabel('Epochs')\n",
    "plt.ylabel('Accuracy')\n",
    "plt.legend()\n",
    "plt.show()\n",
    "\n",
    "# Predictions on training and testing set\n",
    "y_train_pred = (model.predict(X_train) > 0.5).astype(int)\n",
    "y_test_pred  = (model.predict(X_test) > 0.5).astype(int)\n",
    "\n",
    "\n",
    "# all Metrics\n",
    "print(\"\\nTraining Metrics:\")\n",
    "print(\"Accuracy:\", accuracy_score(y_train, y_train_pred))\n",
    "print(\"Precision:\", precision_score(y_train, y_train_pred))\n",
    "print(\"Recall:\", recall_score(y_train, y_train_pred))\n",
    "print(\"F1 Score:\", f1_score(y_train, y_train_pred))\n",
    "\n",
    "print(\"\\nTesting Metrics:\")\n",
    "print(\"Accuracy:\", accuracy_score(y_test, y_test_pred))\n",
    "print(\"Precision:\", precision_score(y_test, y_test_pred))\n",
    "print(\"Recall:\", recall_score(y_test, y_test_pred))\n",
    "print(\"F1 Score:\", f1_score(y_test, y_test_pred))\n",
    "\n",
    "print(\"\\nConfusion Matrix (Test):\")\n",
    "print(confusion_matrix(y_test, y_test_pred))"
   ]
  },
  {
   "cell_type": "code",
   "execution_count": null,
   "id": "d8f42b80-c509-4001-864c-dd6e22b26fff",
   "metadata": {},
   "outputs": [],
   "source": []
  },
  {
   "cell_type": "code",
   "execution_count": null,
   "id": "17125476-d9f6-4ce3-93d0-8a31e2ae12af",
   "metadata": {},
   "outputs": [],
   "source": []
  }
 ],
 "metadata": {
  "kernelspec": {
   "display_name": "Python 3 (ipykernel)",
   "language": "python",
   "name": "python3"
  },
  "language_info": {
   "codemirror_mode": {
    "name": "ipython",
    "version": 3
   },
   "file_extension": ".py",
   "mimetype": "text/x-python",
   "name": "python",
   "nbconvert_exporter": "python",
   "pygments_lexer": "ipython3",
   "version": "3.13.5"
  }
 },
 "nbformat": 4,
 "nbformat_minor": 5
}
